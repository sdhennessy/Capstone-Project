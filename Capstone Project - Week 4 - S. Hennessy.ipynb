{
 "cells": [
  {
   "cell_type": "markdown",
   "metadata": {},
   "source": [
    "# Capstone Project - Week 4 - S. Hennessy"
   ]
  },
  {
   "cell_type": "markdown",
   "metadata": {},
   "source": [
    "# Problem Description\n",
    "\n",
    "A client is seeking to enter the mobile food business in the State of Maine by establishing a food truck operation. The client is a seasoned cook/chef with little exposure to business operations. Nevertheless, he wants to launch his dream of operating his own food truck. \n",
    "\n",
    "The client shared two primary goals: \n",
    "1.\tHe wants to establish his business in an optimum location for the peak tourism season. He is already fired up for the 2019 season and plans to launch his business in the spring although he has not selected a region or city to pursue.\n",
    "2.\tHe wants to promote the local fishing industry by offering a selection of appealing seafood items, yet, he is unsure whether he can create enough revenue solely from a seafood-based menu. From his culinary experience, he is confident that seafood is the optimum food item to market.\n",
    "\n"
   ]
  },
  {
   "cell_type": "markdown",
   "metadata": {},
   "source": [
    "# Background\n",
    "The State of Maine is the most northeastern location in the USA. \n",
    "\n",
    "At one time, Maine’s primary source of revenue was based upon the harvesting of raw wood material through a significant Pulp and Paper industry. With the global collapse of the wood industry in the last decade or so and with the surge in local entrepreneurs, Maine diversified its work force into other streams and has recovered, somewhat, economically. \n",
    "\n",
    "Despite the downturn in the forestry industry, two sources of revenue have remained consistent: Tourism and Aquaculture. By tapping into both of these revenue streams, the client is seeking to optimize the volume of hungry customers by having his new food truck and mouthwatering seafood menu join the culinary landscape of mobile dining options in Maine.\n",
    "\n",
    "Maine is a State that embraces all four seasons. Its climate responds well to year-round tourism-related activities (visitmaine.com). For his first year of operations, the client has decided to concentrate only on the peak tourism season. Summer vacation traffic is almost entirely driven by visitors interested in viewing, touring and staying along Maine’s Atlantic Ocean/Gulf of Maine coast line. This coast line is serviced by Maine’s Route 1 highway and is the basis for determining the ideal location in this Capstone project.\n",
    "\n",
    "\n"
   ]
  },
  {
   "cell_type": "markdown",
   "metadata": {},
   "source": [
    "# Data Description\n",
    "The source data will be built upon a collection of identified northeastern Towns along Route 1, from Kittery to Calais, a distance of 316 miles along the southeastern coastline of Maine. This augmentation of data will need to be programmatically developed from data scraping web sites for the Latitude and Longitude of the towns and building an appropriate data frame. \n"
   ]
  },
  {
   "cell_type": "markdown",
   "metadata": {},
   "source": [
    "# Planned data analysis\n",
    "The Maine Route 1 data frame will be layered with data from the Foursquare API and will be graphically represented on a Map. \n",
    "\n",
    "To further data analysis and gain insight in determining the optimum location for the client’s food service, clustering will be performed. This clustering will be achieved through the application of unsupervised machine learning with the clustering algorithm k-means. Through the iterations of the k-means process optimum criteria will be identified for client’s selection of the location for operations and optimum food item(s).\n"
   ]
  }
 ],
 "metadata": {
  "kernelspec": {
   "display_name": "Python 3",
   "language": "python",
   "name": "python3"
  },
  "language_info": {
   "codemirror_mode": {
    "name": "ipython",
    "version": 3
   },
   "file_extension": ".py",
   "mimetype": "text/x-python",
   "name": "python",
   "nbconvert_exporter": "python",
   "pygments_lexer": "ipython3",
   "version": "3.7.0"
  }
 },
 "nbformat": 4,
 "nbformat_minor": 2
}
