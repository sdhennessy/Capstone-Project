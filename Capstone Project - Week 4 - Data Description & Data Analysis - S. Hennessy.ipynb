{
 "cells": [
  {
   "cell_type": "markdown",
   "metadata": {},
   "source": [
    "# Capstone Project - Week 4 Part 2 - S. Hennessy"
   ]
  },
  {
   "cell_type": "markdown",
   "metadata": {},
   "source": [
    "# Data Description\n",
    "The source data will be built upon a collection of identified northeastern Towns along Route 1, from Kittery to Calais, a distance of 316 miles along the southeastern coastline of Maine. The initial list of 46 towns and 8 counties is only a starting point and will require augmentation from data scraping web sites for the Latitude and Longitude of the towns and the building of an appropriate data frame for use with data analysis. \n"
   ]
  },
  {
   "cell_type": "markdown",
   "metadata": {},
   "source": [
    "# Planned Data Analysis\n",
    "The Maine Route 1 data frame will be layered with data from the Foursquare API and will be graphically represented on a Map. As part of the analysis, different facets of the foursquare API (e.g. search, similar, trending, etc.) will be used to build a robust understanding of the pros and cons of locating in each town.\n",
    "\n",
    "To further data analysis and gain insight in determining the optimum location for the client’s food service, clustering will be performed. This clustering will be achieved through the application of unsupervised machine learning with the clustering algorithm k-means. Through the iterations of the k-means process optimum criteria will be identified for client’s selection of the location for operations and optimum food item(s).\n",
    "\n"
   ]
  }
 ],
 "metadata": {
  "kernelspec": {
   "display_name": "Python 3",
   "language": "python",
   "name": "python3"
  },
  "language_info": {
   "codemirror_mode": {
    "name": "ipython",
    "version": 3
   },
   "file_extension": ".py",
   "mimetype": "text/x-python",
   "name": "python",
   "nbconvert_exporter": "python",
   "pygments_lexer": "ipython3",
   "version": "3.7.0"
  }
 },
 "nbformat": 4,
 "nbformat_minor": 2
}
